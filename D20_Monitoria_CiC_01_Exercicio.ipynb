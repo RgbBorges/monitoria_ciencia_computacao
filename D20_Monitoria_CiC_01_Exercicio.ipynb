{
  "nbformat": 4,
  "nbformat_minor": 0,
  "metadata": {
    "colab": {
      "name": "D20_Monitoria_CiC_01_Exercicio.ipynb",
      "provenance": [],
      "collapsed_sections": []
    },
    "kernelspec": {
      "name": "python3",
      "display_name": "Python 3"
    },
    "language_info": {
      "name": "python"
    }
  },
  "cells": [
    {
      "cell_type": "markdown",
      "metadata": {
        "id": "XdRV8ZqXKFKq"
      },
      "source": [
        "# D20 - Monitoria em Ciência da Computação\n",
        "## Aula 01 - Operações Lógicas\n",
        "\n",
        "**Professor: Stefano Mozart**"
      ]
    },
    {
      "cell_type": "code",
      "metadata": {
        "id": "2yx_P11CKMTP"
      },
      "source": [
        "# Valores de teste para nossas expressões falseáveis\n",
        "X = [False, False, True, True]\n",
        "Y = [False, True, False, True]"
      ],
      "execution_count": 1,
      "outputs": []
    },
    {
      "cell_type": "markdown",
      "metadata": {
        "id": "1fqmEKO7LNiG"
      },
      "source": [
        "## Negação:\n",
        "$\\neg x$"
      ]
    },
    {
      "cell_type": "code",
      "metadata": {
        "colab": {
          "base_uri": "https://localhost:8080/"
        },
        "id": "lEM6ES1vLYNX",
        "outputId": "fff1a902-af25-408d-f7e2-1869ec4ed5dd"
      },
      "source": [
        "for x in X:\n",
        "   print(f'not {x} == {not x}')"
      ],
      "execution_count": 2,
      "outputs": [
        {
          "output_type": "stream",
          "text": [
            "not False == True\n",
            "not False == True\n",
            "not True == False\n",
            "not True == False\n"
          ],
          "name": "stdout"
        }
      ]
    },
    {
      "cell_type": "markdown",
      "metadata": {
        "id": "yOGe0CByMs7N"
      },
      "source": [
        "**Exercício 1.1:** Imprima a negação de cada valor da variável Y"
      ]
    },
    {
      "cell_type": "code",
      "metadata": {
        "id": "FYv1Cr__M2G7"
      },
      "source": [
        "# escreva sua resposta abaixo\n"
      ],
      "execution_count": 3,
      "outputs": []
    },
    {
      "cell_type": "markdown",
      "metadata": {
        "id": "t1pihAOyMECs"
      },
      "source": [
        "**Exercício 1.2:** Imprima a palavra \"Falso\" quando o valor de X for `False`\n",
        "- Dica: use a instrução `if ( . )`"
      ]
    },
    {
      "cell_type": "code",
      "metadata": {
        "id": "tm6ym7tdME18"
      },
      "source": [
        "# escreva sua resposta abaixo\n"
      ],
      "execution_count": 4,
      "outputs": []
    },
    {
      "cell_type": "markdown",
      "metadata": {
        "id": "G4YONnvxQ3PP"
      },
      "source": [
        "**Exercício 1.3:** Qual o valor da negação da negação do valor `True`?"
      ]
    },
    {
      "cell_type": "code",
      "metadata": {
        "id": "kOON2lzMRCOC"
      },
      "source": [
        "# escreva sua resposta abaixo\n"
      ],
      "execution_count": 5,
      "outputs": []
    },
    {
      "cell_type": "markdown",
      "metadata": {
        "id": "vhqu_Hs9MFt2"
      },
      "source": [
        "## Conjunção:\n",
        "$x \\lor y$"
      ]
    },
    {
      "cell_type": "code",
      "metadata": {
        "colab": {
          "base_uri": "https://localhost:8080/"
        },
        "id": "HLRtW13tMGbH",
        "outputId": "c9ef5ef2-0cfc-40a3-e6a0-8958e17cbd8d"
      },
      "source": [
        "for x, y in zip(X, Y):\n",
        "  print(f'{x} or {y} == {(x or y)}')"
      ],
      "execution_count": 6,
      "outputs": [
        {
          "output_type": "stream",
          "text": [
            "False or False == False\n",
            "False or True == True\n",
            "True or False == True\n",
            "True or True == True\n"
          ],
          "name": "stdout"
        }
      ]
    },
    {
      "cell_type": "markdown",
      "metadata": {
        "id": "8On6_-7AQPo9"
      },
      "source": [
        "**Exercício 1.4:** Imprima a frase \"pelo menos um verdadeiro\" quando o valor de X ou Y for `True`\n",
        "- dica: use o teste `if (. or .)`"
      ]
    },
    {
      "cell_type": "code",
      "metadata": {
        "id": "jk_VsgULQmaT"
      },
      "source": [
        "# escreva sua resposta abaixo\n"
      ],
      "execution_count": 7,
      "outputs": []
    },
    {
      "cell_type": "markdown",
      "metadata": {
        "id": "3LSe1Hr-Re-r"
      },
      "source": [
        "**Exercício 1.5:** Imprima a frase \"pelo menos um falso\" quando a negação de X ou a negação de Y forem verdadeiras\n",
        "- dica: use o teste `if ( . or . )`\n",
        "- provocação: existe outra maneira de expressar essa condição?"
      ]
    },
    {
      "cell_type": "code",
      "metadata": {
        "id": "xo2qKIb_SF7v"
      },
      "source": [
        "# escreva sua resposta abaixo\n"
      ],
      "execution_count": 8,
      "outputs": []
    },
    {
      "cell_type": "markdown",
      "metadata": {
        "id": "lkF7B4BQTciO"
      },
      "source": [
        "**Exercício 1.6:** Qual o valor da operação de conjunção de uma expressão com ela mesma (ie. $x\\lor x$)?"
      ]
    },
    {
      "cell_type": "code",
      "metadata": {
        "id": "Xf0UNewQUAPz"
      },
      "source": [
        "# escreva sua resposta abaixo\n"
      ],
      "execution_count": 9,
      "outputs": []
    },
    {
      "cell_type": "markdown",
      "metadata": {
        "id": "bXIrTLUwgwY8"
      },
      "source": [
        "**Exercício 1.7:** Qual o valor da operação de conjunção entre uma expressão e sua negação (ie. $x \\lor \\neg x$)?"
      ]
    },
    {
      "cell_type": "code",
      "metadata": {
        "id": "waYik-bshBT9"
      },
      "source": [
        "# escreva sua resposta abaixo\n"
      ],
      "execution_count": 10,
      "outputs": []
    },
    {
      "cell_type": "markdown",
      "metadata": {
        "id": "9-9lIJ6kUsKS"
      },
      "source": [
        "## Disjunção\n",
        "$x \\land y$"
      ]
    },
    {
      "cell_type": "code",
      "metadata": {
        "colab": {
          "base_uri": "https://localhost:8080/"
        },
        "id": "ENZ8aPUjfkQ-",
        "outputId": "2bbed42c-dd2a-497c-93be-3665a152e44f"
      },
      "source": [
        "for x, y in zip(X, Y):\n",
        "  print(f'{x} ∧ {y} == {(x and y)}')"
      ],
      "execution_count": 11,
      "outputs": [
        {
          "output_type": "stream",
          "text": [
            "False ∧ False == False\n",
            "False ∧ True == False\n",
            "True ∧ False == False\n",
            "True ∧ True == True\n"
          ],
          "name": "stdout"
        }
      ]
    },
    {
      "cell_type": "markdown",
      "metadata": {
        "id": "2Ph9OMmwf6bF"
      },
      "source": [
        "**Exercício 1.8:** Imprima a frase \"ambos verdadeiros\" quando os valores de X e Y forem verdadeiros"
      ]
    },
    {
      "cell_type": "code",
      "metadata": {
        "id": "V4M-7tjVgMun"
      },
      "source": [
        "# escreva sua resposta abaixo\n"
      ],
      "execution_count": 12,
      "outputs": []
    },
    {
      "cell_type": "markdown",
      "metadata": {
        "id": "aLjqGpgYgRAI"
      },
      "source": [
        "**Exercício 1.9:** Imprima a frase \"Todos falsos\" quando ambos os valores de X e Y forem falsos."
      ]
    },
    {
      "cell_type": "code",
      "metadata": {
        "id": "ZvBiSk0ChUKL"
      },
      "source": [
        "# escreva sua resposta abaixo\n"
      ],
      "execution_count": 13,
      "outputs": []
    },
    {
      "cell_type": "markdown",
      "metadata": {
        "id": "x0uyysk2hclC"
      },
      "source": [
        "**Exercício 1.10:** Qual o valor da disjunção entre uma expressão e sua negação ($x \\land \\neg x$)?"
      ]
    },
    {
      "cell_type": "code",
      "metadata": {
        "id": "ejf6Nht_h5i3"
      },
      "source": [
        "# escreva sua resposta abaixo\n"
      ],
      "execution_count": 14,
      "outputs": []
    },
    {
      "cell_type": "markdown",
      "metadata": {
        "id": "dpNEp5fGh-6S"
      },
      "source": [
        "## Implicação\n",
        "$x \\rightarrow y$"
      ]
    },
    {
      "cell_type": "code",
      "metadata": {
        "colab": {
          "base_uri": "https://localhost:8080/"
        },
        "id": "diz2fpJii8Ys",
        "outputId": "31db5682-ffdd-4863-bd40-ad4884adb0d1"
      },
      "source": [
        "for x, y in zip(X, Y):\n",
        "  print(f'{x} → {y} == {(not x) or y}')"
      ],
      "execution_count": 15,
      "outputs": [
        {
          "output_type": "stream",
          "text": [
            "False → False == True\n",
            "False → True == True\n",
            "True → False == False\n",
            "True → True == True\n"
          ],
          "name": "stdout"
        }
      ]
    },
    {
      "cell_type": "markdown",
      "metadata": {
        "id": "0ZtOZFrKEsTc"
      },
      "source": [
        "**Exercício 1.11**: O exemplo acima expressa a implicação na forma $\\neg x \\lor y$. Repita o experimento usando a implicação na forma $\\neg(x \\land \\neg y)$"
      ]
    },
    {
      "cell_type": "code",
      "metadata": {
        "id": "zNJ2sjelEntD"
      },
      "source": [
        "# escreva sua resposta abaixo\n"
      ],
      "execution_count": 16,
      "outputs": []
    },
    {
      "cell_type": "markdown",
      "metadata": {
        "id": "VXDlQsEvEPl6"
      },
      "source": [
        "**Exercício 1.12**: Imprima a frase \"y implica x\" quando $Y \\rightarrow X$"
      ]
    },
    {
      "cell_type": "code",
      "metadata": {
        "id": "YNOGmgTdF1Ib"
      },
      "source": [
        "# escreva sua resposta abaixo\n"
      ],
      "execution_count": 17,
      "outputs": []
    },
    {
      "cell_type": "markdown",
      "metadata": {
        "id": "RcoV9_T2tjgV"
      },
      "source": [
        "## Equivalência\n",
        "$x \\leftrightarrow y$"
      ]
    },
    {
      "cell_type": "code",
      "metadata": {
        "colab": {
          "base_uri": "https://localhost:8080/"
        },
        "id": "N5Y2-mPCt_b-",
        "outputId": "9d7e44d5-98f4-4c13-9aba-8e16366cf0e2"
      },
      "source": [
        "for x, y in zip(X, Y):\n",
        "  print(f'{x} ↔ {y} == {x == y}')"
      ],
      "execution_count": 18,
      "outputs": [
        {
          "output_type": "stream",
          "text": [
            "False ↔ False == True\n",
            "False ↔ True == False\n",
            "True ↔ False == False\n",
            "True ↔ True == True\n"
          ],
          "name": "stdout"
        }
      ]
    },
    {
      "cell_type": "markdown",
      "metadata": {
        "id": "NPUoy9K-GCdN"
      },
      "source": [
        "**Exercício 1.13:** Imprima a frase \"y equivale a x\" quando $Y \\leftrightarrow X$."
      ]
    },
    {
      "cell_type": "code",
      "metadata": {
        "id": "fZ4V2HXsJ2Kd"
      },
      "source": [
        "# escreva sua resposta abaixo\n"
      ],
      "execution_count": 19,
      "outputs": []
    },
    {
      "cell_type": "markdown",
      "metadata": {
        "id": "jvXB1i-_J5X7"
      },
      "source": [
        "**Exercício 1.14:** Quando uma expressão é equivalente à sua dupla negação ($\\neg\\neg x$)?"
      ]
    },
    {
      "cell_type": "code",
      "metadata": {
        "id": "kNZVgSBCLAyE"
      },
      "source": [
        "# escreva sua resposta abaixo\n"
      ],
      "execution_count": 20,
      "outputs": []
    },
    {
      "cell_type": "markdown",
      "metadata": {
        "id": "PORJJ1LuLKsr"
      },
      "source": [
        "**Exercício 1.15:** As expressões $x \\lor y$ e $y \\lor x$ são equivalentes? Demonstre:"
      ]
    },
    {
      "cell_type": "code",
      "metadata": {
        "id": "DMoesoQXLc-s"
      },
      "source": [
        "# escreva sua resposta abaixo\n"
      ],
      "execution_count": 21,
      "outputs": []
    },
    {
      "cell_type": "markdown",
      "metadata": {
        "id": "y8-GVLukLd_k"
      },
      "source": [
        "**Exercício 1.16:** As expressões $x \\rightarrow y$ e $y \\rightarrow x$ são equivalentes? Demonstre:"
      ]
    },
    {
      "cell_type": "code",
      "metadata": {
        "id": "anZ5QvFfLtK0"
      },
      "source": [
        "# escreva sua resposta abaixo\n"
      ],
      "execution_count": 22,
      "outputs": []
    },
    {
      "cell_type": "markdown",
      "metadata": {
        "id": "77C4qk7dMDJs"
      },
      "source": [
        "**Exercício 1.17:** As expressões **$x \\leftrightarrow y$** e **$(x \\rightarrow y) \\land (y \\rightarrow x)$** são equivalentes? Demonstre:"
      ]
    },
    {
      "cell_type": "code",
      "metadata": {
        "id": "FrC1c4COMiB8"
      },
      "source": [
        "# escreva sua resposta abaixo\n"
      ],
      "execution_count": 23,
      "outputs": []
    },
    {
      "cell_type": "markdown",
      "metadata": {
        "id": "EboayEDoucFW"
      },
      "source": [
        "## Exclusão\n",
        "$x \\veebar y$"
      ]
    },
    {
      "cell_type": "code",
      "metadata": {
        "id": "uUpAZ5Waumt_",
        "colab": {
          "base_uri": "https://localhost:8080/"
        },
        "outputId": "88363d3f-8229-4ff8-8f9c-bc0f72799bf9"
      },
      "source": [
        "for x, y in zip(X, Y):\n",
        "  print(f'{x} ⊻ {y} == {(not x) != (not y)}')"
      ],
      "execution_count": 24,
      "outputs": [
        {
          "output_type": "stream",
          "text": [
            "False ⊻ False == False\n",
            "False ⊻ True == True\n",
            "True ⊻ False == True\n",
            "True ⊻ True == False\n"
          ],
          "name": "stdout"
        }
      ]
    },
    {
      "cell_type": "markdown",
      "metadata": {
        "id": "0wCQNiGzNv9n"
      },
      "source": [
        "**Exercício 1.18:** Qual o valor da exclusão entre uma expressão e sua negação ($x \\veebar \\neg x$):"
      ]
    },
    {
      "cell_type": "code",
      "metadata": {
        "id": "4NunczeyOF4R"
      },
      "source": [
        "# escreva sua resposta abaixo\n"
      ],
      "execution_count": 25,
      "outputs": []
    },
    {
      "cell_type": "markdown",
      "metadata": {
        "id": "CEwjLhT0OHV8"
      },
      "source": [
        "**Exercício 1.19:** A expressão $(x \\lor y) \\land \\neg(x \\land y)$ equivale a $x \\veebar y$? Demonstre:"
      ]
    },
    {
      "cell_type": "code",
      "metadata": {
        "id": "FHCNFX8PVPu0"
      },
      "source": [
        "# escreva sua resposta abaixo\n"
      ],
      "execution_count": 26,
      "outputs": []
    }
  ]
}