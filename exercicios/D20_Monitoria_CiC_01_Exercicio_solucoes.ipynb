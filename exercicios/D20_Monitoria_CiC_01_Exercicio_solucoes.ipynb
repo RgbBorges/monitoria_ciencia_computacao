{
  "nbformat": 4,
  "nbformat_minor": 0,
  "metadata": {
    "colab": {
      "name": "D20_Monitoria_CiC_01_Exercicio_solucoes.ipynb",
      "provenance": [],
      "collapsed_sections": []
    },
    "kernelspec": {
      "name": "python3",
      "display_name": "Python 3"
    },
    "language_info": {
      "name": "python"
    }
  },
  "cells": [
    {
      "cell_type": "markdown",
      "metadata": {
        "id": "XdRV8ZqXKFKq"
      },
      "source": [
        "# D20 - Monitoria em Ciência da Computação\n",
        "## Aula 01 - Operações Lógicas\n",
        "\n",
        "**Professor: Stefano Mozart**"
      ]
    },
    {
      "cell_type": "code",
      "metadata": {
        "id": "2yx_P11CKMTP"
      },
      "source": [
        "# Valores de teste para nossas expressões falseáveis\n",
        "X = [False, False, True, True]\n",
        "Y = [False, True, False, True]"
      ],
      "execution_count": 1,
      "outputs": []
    },
    {
      "cell_type": "markdown",
      "metadata": {
        "id": "1fqmEKO7LNiG"
      },
      "source": [
        "## Negação:\n",
        "$\\neg x$"
      ]
    },
    {
      "cell_type": "code",
      "metadata": {
        "colab": {
          "base_uri": "https://localhost:8080/"
        },
        "id": "lEM6ES1vLYNX",
        "outputId": "44005c55-0dc2-42aa-ac58-d59a1fcd5ed6"
      },
      "source": [
        "for x in X:\n",
        "   print(f'not {x} == {not x}')"
      ],
      "execution_count": 2,
      "outputs": [
        {
          "output_type": "stream",
          "text": [
            "not False == True\n",
            "not False == True\n",
            "not True == False\n",
            "not True == False\n"
          ],
          "name": "stdout"
        }
      ]
    },
    {
      "cell_type": "markdown",
      "metadata": {
        "id": "yOGe0CByMs7N"
      },
      "source": [
        "**Exercício 1.1:** Imprima a negação de cada valor da variável Y"
      ]
    },
    {
      "cell_type": "code",
      "metadata": {
        "id": "FYv1Cr__M2G7",
        "colab": {
          "base_uri": "https://localhost:8080/"
        },
        "outputId": "ced6fdfa-e897-4d20-9433-66e1595d3131"
      },
      "source": [
        "# escreva sua resposta abaixo\n",
        "for y in Y:\n",
        "  print(f'not {y} == {not y}')"
      ],
      "execution_count": 3,
      "outputs": [
        {
          "output_type": "stream",
          "text": [
            "not False == True\n",
            "not True == False\n",
            "not False == True\n",
            "not True == False\n"
          ],
          "name": "stdout"
        }
      ]
    },
    {
      "cell_type": "markdown",
      "metadata": {
        "id": "t1pihAOyMECs"
      },
      "source": [
        "**Exercício 1.2:** Imprima a palavra \"Falso\" quando o valor de X for `False`\n",
        "- Dica: use a instrução `if ( . ):`"
      ]
    },
    {
      "cell_type": "code",
      "metadata": {
        "id": "tm6ym7tdME18",
        "colab": {
          "base_uri": "https://localhost:8080/"
        },
        "outputId": "cbdf1253-2045-4534-96bc-1f1c3a9bdb91"
      },
      "source": [
        "# escreva sua resposta abaixo\n",
        "for x in X:\n",
        "  if (not x):\n",
        "    print(\"Falso\")\n"
      ],
      "execution_count": 4,
      "outputs": [
        {
          "output_type": "stream",
          "text": [
            "Falso\n",
            "Falso\n"
          ],
          "name": "stdout"
        }
      ]
    },
    {
      "cell_type": "markdown",
      "metadata": {
        "id": "G4YONnvxQ3PP"
      },
      "source": [
        "**Exercício 1.3:** Qual o valor da negação da negação do valor `True`?"
      ]
    },
    {
      "cell_type": "code",
      "metadata": {
        "id": "kOON2lzMRCOC",
        "colab": {
          "base_uri": "https://localhost:8080/"
        },
        "outputId": "476e8245-1dc0-405f-887f-933d5355a207"
      },
      "source": [
        "# escreva sua resposta abaixo\n",
        "not True"
      ],
      "execution_count": 5,
      "outputs": [
        {
          "output_type": "execute_result",
          "data": {
            "text/plain": [
              "False"
            ]
          },
          "metadata": {
            "tags": []
          },
          "execution_count": 5
        }
      ]
    },
    {
      "cell_type": "markdown",
      "metadata": {
        "id": "vhqu_Hs9MFt2"
      },
      "source": [
        "## Conjunção:\n",
        "$x \\lor y$"
      ]
    },
    {
      "cell_type": "code",
      "metadata": {
        "colab": {
          "base_uri": "https://localhost:8080/"
        },
        "id": "HLRtW13tMGbH",
        "outputId": "7b9e3888-1279-4c20-cdd3-e2104fbba67e"
      },
      "source": [
        "for x, y in zip(X, Y):\n",
        "  print(f'{x} or {y} == {(x or y)}')"
      ],
      "execution_count": 6,
      "outputs": [
        {
          "output_type": "stream",
          "text": [
            "False or False == False\n",
            "False or True == True\n",
            "True or False == True\n",
            "True or True == True\n"
          ],
          "name": "stdout"
        }
      ]
    },
    {
      "cell_type": "markdown",
      "metadata": {
        "id": "8On6_-7AQPo9"
      },
      "source": [
        "**Exercício 1.4:** Imprima a frase \"pelo menos um verdadeiro\" quando o valor de X ou Y for `True`\n",
        "- dica: use o teste `if (. or .):`"
      ]
    },
    {
      "cell_type": "code",
      "metadata": {
        "id": "jk_VsgULQmaT",
        "colab": {
          "base_uri": "https://localhost:8080/"
        },
        "outputId": "b938290c-c10f-4519-8afa-12993a8551f5"
      },
      "source": [
        "# escreva sua resposta abaixo\n",
        "for x, y in zip(X, Y):\n",
        "  if (x or y):\n",
        "    print(\"pelo menos um verdadeiro\")"
      ],
      "execution_count": 7,
      "outputs": [
        {
          "output_type": "stream",
          "text": [
            "pelo menos um verdadeiro\n",
            "pelo menos um verdadeiro\n",
            "pelo menos um verdadeiro\n"
          ],
          "name": "stdout"
        }
      ]
    },
    {
      "cell_type": "markdown",
      "metadata": {
        "id": "3LSe1Hr-Re-r"
      },
      "source": [
        "**Exercício 1.5:** Imprima a frase \"pelo menos um falso\" quando a negação de X ou a negação de Y forem verdadeiras\n",
        "- dica: use o teste `if ( . or . ):`\n",
        "- provocação: existe outra maneira de expressar essa condição?"
      ]
    },
    {
      "cell_type": "code",
      "metadata": {
        "id": "xo2qKIb_SF7v",
        "colab": {
          "base_uri": "https://localhost:8080/"
        },
        "outputId": "3c50a7cd-19c8-4b6c-fe7c-dfaf297aa0e1"
      },
      "source": [
        "# escreva sua resposta abaixo\n",
        "print(\"Usando o teste if ((not .) or (not .))\")\n",
        "for x, y in zip(X, Y):  \n",
        "  if ((not x) or (not y)):\n",
        "    print(\"pelo menos um falso\")\n",
        "\n",
        "#- A outra maneira de expressar essa condição seria not (. and .)\n",
        "print(\"\\nUsando o teste if (not (. and .))\")\n",
        "for x, y in zip(X, Y):  \n",
        "  if (not (x and y)):\n",
        "    print(\"pelo menos um falso\")\n"
      ],
      "execution_count": 8,
      "outputs": [
        {
          "output_type": "stream",
          "text": [
            "Usando o teste if ((not .) or (not .))\n",
            "pelo menos um falso\n",
            "pelo menos um falso\n",
            "pelo menos um falso\n",
            "\n",
            "Usando o teste if (not (. and .))\n",
            "pelo menos um falso\n",
            "pelo menos um falso\n",
            "pelo menos um falso\n"
          ],
          "name": "stdout"
        }
      ]
    },
    {
      "cell_type": "markdown",
      "metadata": {
        "id": "lkF7B4BQTciO"
      },
      "source": [
        "**Exercício 1.6:** Qual o valor da operação de conjunção de uma expressão com ela mesma (ie. $x\\lor x$)?"
      ]
    },
    {
      "cell_type": "code",
      "metadata": {
        "id": "Xf0UNewQUAPz",
        "colab": {
          "base_uri": "https://localhost:8080/"
        },
        "outputId": "75c80fa5-f019-40d7-9fa0-861e9e04cd82"
      },
      "source": [
        "# escreva sua resposta abaixo\n",
        "\n",
        "#- x or x = x\n",
        "for x in X:\n",
        "  print(f'{x} or {x} == {x or x}')"
      ],
      "execution_count": 9,
      "outputs": [
        {
          "output_type": "stream",
          "text": [
            "False or False == False\n",
            "False or False == False\n",
            "True or True == True\n",
            "True or True == True\n"
          ],
          "name": "stdout"
        }
      ]
    },
    {
      "cell_type": "markdown",
      "metadata": {
        "id": "bXIrTLUwgwY8"
      },
      "source": [
        "**Exercício 1.7:** Qual o valor da operação de conjunção entre uma expressão e sua negação (ie. $x \\lor \\neg x$)?"
      ]
    },
    {
      "cell_type": "code",
      "metadata": {
        "id": "waYik-bshBT9",
        "colab": {
          "base_uri": "https://localhost:8080/"
        },
        "outputId": "32be5579-6e57-4628-d918-f0cb88067840"
      },
      "source": [
        "# escreva sua resposta abaixo\n",
        "\n",
        "#- É uma tautologia: o resultado é sempre True\n",
        "for x in X:\n",
        "  print(f'x or x == {x or (not x)}')"
      ],
      "execution_count": 10,
      "outputs": [
        {
          "output_type": "stream",
          "text": [
            "x or x == True\n",
            "x or x == True\n",
            "x or x == True\n",
            "x or x == True\n"
          ],
          "name": "stdout"
        }
      ]
    },
    {
      "cell_type": "markdown",
      "metadata": {
        "id": "9-9lIJ6kUsKS"
      },
      "source": [
        "## Disjunção\n",
        "$x \\land y$"
      ]
    },
    {
      "cell_type": "code",
      "metadata": {
        "colab": {
          "base_uri": "https://localhost:8080/"
        },
        "id": "ENZ8aPUjfkQ-",
        "outputId": "b607938d-ea9e-450a-e1f3-2d5583a39bb2"
      },
      "source": [
        "for x, y in zip(X, Y):\n",
        "  print(f'{x} ∧ {y} == {(x and y)}')"
      ],
      "execution_count": 11,
      "outputs": [
        {
          "output_type": "stream",
          "text": [
            "False ∧ False == False\n",
            "False ∧ True == False\n",
            "True ∧ False == False\n",
            "True ∧ True == True\n"
          ],
          "name": "stdout"
        }
      ]
    },
    {
      "cell_type": "markdown",
      "metadata": {
        "id": "2Ph9OMmwf6bF"
      },
      "source": [
        "**Exercício 1.8:** Imprima a frase \"ambos verdadeiros\" quando os valores de X e Y forem verdadeiros"
      ]
    },
    {
      "cell_type": "code",
      "metadata": {
        "id": "V4M-7tjVgMun",
        "colab": {
          "base_uri": "https://localhost:8080/"
        },
        "outputId": "7c7d9446-62a9-4e70-a5ac-e77040a9dfe7"
      },
      "source": [
        "# escreva sua resposta abaixo\n",
        "for x, y in zip(X, Y):\n",
        "  if (x and y):\n",
        "    print(\"ambos verdadeiros\")"
      ],
      "execution_count": 12,
      "outputs": [
        {
          "output_type": "stream",
          "text": [
            "ambos verdadeiros\n"
          ],
          "name": "stdout"
        }
      ]
    },
    {
      "cell_type": "markdown",
      "metadata": {
        "id": "aLjqGpgYgRAI"
      },
      "source": [
        "**Exercício 1.9:** Imprima a frase \"Todos falsos\" quando ambos os valores de X e Y forem falsos."
      ]
    },
    {
      "cell_type": "code",
      "metadata": {
        "id": "ZvBiSk0ChUKL",
        "colab": {
          "base_uri": "https://localhost:8080/"
        },
        "outputId": "9b2ff848-904d-4787-a3bb-888b754232dc"
      },
      "source": [
        "# escreva sua resposta abaixo\n",
        "print(\"usando a expressão `(not x) and (not y)`\")\n",
        "for x, y in zip(X, Y):\n",
        "  if ((not x) and (not y)):\n",
        "    print(\"Todos falsos\")\n",
        "\n",
        "#- Outra maneira de expressar a mesma condição seria `not (x or y)`\n",
        "print(\"usando a expressão `not (x or y)`\")\n",
        "for x, y in zip(X, Y):\n",
        "  if ((not x) and (not y)):\n",
        "    print(\"Todos falsos\")\n"
      ],
      "execution_count": 13,
      "outputs": [
        {
          "output_type": "stream",
          "text": [
            "usando a expressão `(not x) and (not y)`\n",
            "Todos falsos\n",
            "usando a expressão `not (x or y)`\n",
            "Todos falsos\n"
          ],
          "name": "stdout"
        }
      ]
    },
    {
      "cell_type": "markdown",
      "metadata": {
        "id": "x0uyysk2hclC"
      },
      "source": [
        "**Exercício 1.10:** Qual o valor da disjunção entre uma expressão e sua negação ($x \\land \\neg x$)?"
      ]
    },
    {
      "cell_type": "code",
      "metadata": {
        "id": "ejf6Nht_h5i3",
        "colab": {
          "base_uri": "https://localhost:8080/"
        },
        "outputId": "49faf459-9812-43c2-d4e2-b5c61b290f75"
      },
      "source": [
        "# escreva sua resposta abaixo\n",
        "\n",
        "#- É uma contradição: o resultado é sempre `False`\n",
        "for x in X:\n",
        "  print(x and (not x))"
      ],
      "execution_count": 14,
      "outputs": [
        {
          "output_type": "stream",
          "text": [
            "False\n",
            "False\n",
            "False\n",
            "False\n"
          ],
          "name": "stdout"
        }
      ]
    },
    {
      "cell_type": "markdown",
      "metadata": {
        "id": "dpNEp5fGh-6S"
      },
      "source": [
        "## Implicação\n",
        "$x \\rightarrow y$"
      ]
    },
    {
      "cell_type": "code",
      "metadata": {
        "colab": {
          "base_uri": "https://localhost:8080/"
        },
        "id": "diz2fpJii8Ys",
        "outputId": "829f1900-ad5f-4956-ce22-fb4170527ef4"
      },
      "source": [
        "for x, y in zip(X, Y):\n",
        "  print(f'{x} → {y} == {(not x) or y}')"
      ],
      "execution_count": 15,
      "outputs": [
        {
          "output_type": "stream",
          "text": [
            "False → False == True\n",
            "False → True == True\n",
            "True → False == False\n",
            "True → True == True\n"
          ],
          "name": "stdout"
        }
      ]
    },
    {
      "cell_type": "markdown",
      "metadata": {
        "id": "0ZtOZFrKEsTc"
      },
      "source": [
        "**Exercício 1.11**: O exemplo acima expressa a implicação na forma $\\neg x \\lor y$. Repita o experimento usando a implicação na forma $\\neg(x \\land \\neg y)$"
      ]
    },
    {
      "cell_type": "code",
      "metadata": {
        "id": "zNJ2sjelEntD",
        "colab": {
          "base_uri": "https://localhost:8080/"
        },
        "outputId": "7b05ef2c-85fa-4f5e-d87a-ead38848ebc5"
      },
      "source": [
        "# escreva sua resposta abaixo\n",
        "for x, y in zip(X, Y):\n",
        "  print(f'{x} → {y} == {not (x and (not y))}')"
      ],
      "execution_count": 16,
      "outputs": [
        {
          "output_type": "stream",
          "text": [
            "False → False == True\n",
            "False → True == True\n",
            "True → False == False\n",
            "True → True == True\n"
          ],
          "name": "stdout"
        }
      ]
    },
    {
      "cell_type": "markdown",
      "metadata": {
        "id": "VXDlQsEvEPl6"
      },
      "source": [
        "**Exercício 1.12**: Imprima a frase \"y implica x\" quando $Y \\rightarrow X$"
      ]
    },
    {
      "cell_type": "code",
      "metadata": {
        "id": "YNOGmgTdF1Ib",
        "colab": {
          "base_uri": "https://localhost:8080/"
        },
        "outputId": "e0946ac2-1d53-4f12-95df-bc964c91364c"
      },
      "source": [
        "# escreva sua resposta abaixo\n",
        "for x, y in zip(X, Y):\n",
        "  if ((not y) or x):\n",
        "    print(\"y implica x\")"
      ],
      "execution_count": 17,
      "outputs": [
        {
          "output_type": "stream",
          "text": [
            "y implica x\n",
            "y implica x\n",
            "y implica x\n"
          ],
          "name": "stdout"
        }
      ]
    },
    {
      "cell_type": "markdown",
      "metadata": {
        "id": "RcoV9_T2tjgV"
      },
      "source": [
        "## Equivalência\n",
        "$x \\leftrightarrow y$"
      ]
    },
    {
      "cell_type": "code",
      "metadata": {
        "colab": {
          "base_uri": "https://localhost:8080/"
        },
        "id": "N5Y2-mPCt_b-",
        "outputId": "e1c2c9ce-b38b-46e0-fa25-119955e6754d"
      },
      "source": [
        "for x, y in zip(X, Y):\n",
        "  print(f'{x} ↔ {y} == {x == y}')"
      ],
      "execution_count": 18,
      "outputs": [
        {
          "output_type": "stream",
          "text": [
            "False ↔ False == True\n",
            "False ↔ True == False\n",
            "True ↔ False == False\n",
            "True ↔ True == True\n"
          ],
          "name": "stdout"
        }
      ]
    },
    {
      "cell_type": "markdown",
      "metadata": {
        "id": "NPUoy9K-GCdN"
      },
      "source": [
        "**Exercício 1.13:** Imprima a frase \"y equivale a x\" quando $Y \\leftrightarrow X$."
      ]
    },
    {
      "cell_type": "code",
      "metadata": {
        "id": "fZ4V2HXsJ2Kd",
        "colab": {
          "base_uri": "https://localhost:8080/"
        },
        "outputId": "e8fb5c30-055f-4ed2-95ea-ebc9c6f32281"
      },
      "source": [
        "# escreva sua resposta abaixo\n",
        "for x, y in zip(X, Y):\n",
        "  if (y == x):\n",
        "    print(\"y equivale a x\")"
      ],
      "execution_count": 19,
      "outputs": [
        {
          "output_type": "stream",
          "text": [
            "y equivale a x\n",
            "y equivale a x\n"
          ],
          "name": "stdout"
        }
      ]
    },
    {
      "cell_type": "markdown",
      "metadata": {
        "id": "jvXB1i-_J5X7"
      },
      "source": [
        "**Exercício 1.14:** Quando uma expressão é equivalente à sua dupla negação ($\\neg\\neg x$)?"
      ]
    },
    {
      "cell_type": "code",
      "metadata": {
        "id": "kNZVgSBCLAyE",
        "colab": {
          "base_uri": "https://localhost:8080/"
        },
        "outputId": "7df37352-3530-427b-fdd9-415cf5877208"
      },
      "source": [
        "# escreva sua resposta abaixo\n",
        "\n",
        "#- Sempre. Dupla negação é uma operação de identidade\n",
        "x = True\n",
        "x == (not (not x))"
      ],
      "execution_count": 20,
      "outputs": [
        {
          "output_type": "execute_result",
          "data": {
            "text/plain": [
              "True"
            ]
          },
          "metadata": {
            "tags": []
          },
          "execution_count": 20
        }
      ]
    },
    {
      "cell_type": "markdown",
      "metadata": {
        "id": "PORJJ1LuLKsr"
      },
      "source": [
        "**Exercício 1.15:** As expressões $x \\lor y$ e $y \\lor x$ são equivalentes? Demonstre:"
      ]
    },
    {
      "cell_type": "code",
      "metadata": {
        "id": "DMoesoQXLc-s",
        "colab": {
          "base_uri": "https://localhost:8080/"
        },
        "outputId": "50b647c4-3803-4fc7-a539-ab21b66e80b7"
      },
      "source": [
        "# escreva sua resposta abaixo\n",
        "\n",
        "#- Sim. A conjunção é comutativa.\n",
        "for x, y in zip(X, Y):\n",
        "  print( (x or y) == (y or x) )"
      ],
      "execution_count": 21,
      "outputs": [
        {
          "output_type": "stream",
          "text": [
            "True\n",
            "True\n",
            "True\n",
            "True\n"
          ],
          "name": "stdout"
        }
      ]
    },
    {
      "cell_type": "markdown",
      "metadata": {
        "id": "y8-GVLukLd_k"
      },
      "source": [
        "**Exercício 1.16:** As expressões $x \\rightarrow y$ e $y \\rightarrow x$ são equivalentes? Demonstre:"
      ]
    },
    {
      "cell_type": "code",
      "metadata": {
        "id": "anZ5QvFfLtK0",
        "colab": {
          "base_uri": "https://localhost:8080/"
        },
        "outputId": "04edae2b-cd72-44f7-c5dc-38de152eff45"
      },
      "source": [
        "# escreva sua resposta abaixo\n",
        "\n",
        "#- Não. A implicação não é comutativa. \n",
        "#- As expressões só serão equivalentes, quando x e y forem equivalentes\n",
        "for x, y in zip(X, Y):\n",
        "  print(f\"x={x}, y={y}, 'x→y == y→x'? {(not x or y) == (not y or x)}\")"
      ],
      "execution_count": 22,
      "outputs": [
        {
          "output_type": "stream",
          "text": [
            "x=False, y=False, 'x→y == y→x'? True\n",
            "x=False, y=True, 'x→y == y→x'? False\n",
            "x=True, y=False, 'x→y == y→x'? False\n",
            "x=True, y=True, 'x→y == y→x'? True\n"
          ],
          "name": "stdout"
        }
      ]
    },
    {
      "cell_type": "markdown",
      "metadata": {
        "id": "77C4qk7dMDJs"
      },
      "source": [
        "**Exercício 1.17:** As expressões **$x \\leftrightarrow y$** e **$(x \\rightarrow y) \\land (y \\rightarrow x)$** são equivalentes? Demonstre:"
      ]
    },
    {
      "cell_type": "code",
      "metadata": {
        "id": "FrC1c4COMiB8",
        "colab": {
          "base_uri": "https://localhost:8080/"
        },
        "outputId": "14f4ff1a-80af-460d-a2ad-d909850b1bc7"
      },
      "source": [
        "# escreva sua resposta abaixo\n",
        "\n",
        "#- Sim. A equivalência indica que primeiro operador implica o segundo e vice-e-versa\n",
        "for x, y in zip(X, Y):\n",
        "  print( (x == y) == ( (not x or y) and (not y or x) ) )"
      ],
      "execution_count": 23,
      "outputs": [
        {
          "output_type": "stream",
          "text": [
            "True\n",
            "True\n",
            "True\n",
            "True\n"
          ],
          "name": "stdout"
        }
      ]
    },
    {
      "cell_type": "markdown",
      "metadata": {
        "id": "EboayEDoucFW"
      },
      "source": [
        "## Exclusão\n",
        "$x \\veebar y$"
      ]
    },
    {
      "cell_type": "code",
      "metadata": {
        "id": "uUpAZ5Waumt_",
        "colab": {
          "base_uri": "https://localhost:8080/"
        },
        "outputId": "6ad33463-a699-4e38-a02b-571457fa2698"
      },
      "source": [
        "for x, y in zip(X, Y):\n",
        "  print(f'{x} ⊻ {y} == {(not x) != (not y)}')"
      ],
      "execution_count": 24,
      "outputs": [
        {
          "output_type": "stream",
          "text": [
            "False ⊻ False == False\n",
            "False ⊻ True == True\n",
            "True ⊻ False == True\n",
            "True ⊻ True == False\n"
          ],
          "name": "stdout"
        }
      ]
    },
    {
      "cell_type": "markdown",
      "metadata": {
        "id": "0wCQNiGzNv9n"
      },
      "source": [
        "**Exercício 1.18:** Qual o valor da exclusão entre uma expressão e sua negação ($x \\veebar \\neg x$):"
      ]
    },
    {
      "cell_type": "code",
      "metadata": {
        "id": "4NunczeyOF4R",
        "colab": {
          "base_uri": "https://localhost:8080/"
        },
        "outputId": "953bd2b2-52c0-4e39-a306-33b9c15d273d"
      },
      "source": [
        "# escreva sua resposta abaixo\n",
        "\n",
        "#- É uma tautologia: logo, o valor é sempre True\n",
        "for x in X:\n",
        "  neg_x = not x\n",
        "  print( (not x) != (not neg_x) )"
      ],
      "execution_count": 25,
      "outputs": [
        {
          "output_type": "stream",
          "text": [
            "True\n",
            "True\n",
            "True\n",
            "True\n"
          ],
          "name": "stdout"
        }
      ]
    },
    {
      "cell_type": "markdown",
      "metadata": {
        "id": "CEwjLhT0OHV8"
      },
      "source": [
        "**Exercício 1.19:** A expressão $(x \\lor y) \\land \\neg(x \\land y)$ equivale a $x \\veebar y$? Demonstre:"
      ]
    },
    {
      "cell_type": "code",
      "metadata": {
        "id": "FHCNFX8PVPu0",
        "colab": {
          "base_uri": "https://localhost:8080/"
        },
        "outputId": "dcff4a81-4f45-4f85-a819-72cf0cda9f14"
      },
      "source": [
        "# escreva sua resposta abaixo\n",
        "for x, y in zip(X, Y):\n",
        "  x_xor_y = (not x) != (not y)\n",
        "  ou_e_eNegado = (x or y) and (not (x and y))\n",
        "  print(f'Com ({x}, {y}) - x_xor_y == {x_xor_y} - ou_e_eNegado == {ou_e_eNegado} - Logo, são equivalentes ({x_xor_y == ou_e_eNegado})')"
      ],
      "execution_count": 26,
      "outputs": [
        {
          "output_type": "stream",
          "text": [
            "Com (False, False) - x_xor_y == False - ou_e_eNegado == False - Logo, são equivalentes (True)\n",
            "Com (False, True) - x_xor_y == True - ou_e_eNegado == True - Logo, são equivalentes (True)\n",
            "Com (True, False) - x_xor_y == True - ou_e_eNegado == True - Logo, são equivalentes (True)\n",
            "Com (True, True) - x_xor_y == False - ou_e_eNegado == False - Logo, são equivalentes (True)\n"
          ],
          "name": "stdout"
        }
      ]
    }
  ]
}